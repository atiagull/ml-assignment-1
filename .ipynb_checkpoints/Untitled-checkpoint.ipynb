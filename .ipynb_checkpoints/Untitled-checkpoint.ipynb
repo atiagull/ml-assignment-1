{
 "cells": [
  {
   "cell_type": "code",
   "execution_count": 25,
   "id": "4776fb32-63a6-4162-8d7d-df8590a245e1",
   "metadata": {},
   "outputs": [],
   "source": [
    "import numpy as np\n",
    "import pandas as pd\n",
    "import matplotlib.pyplot as plt\n",
    "from sklearn.preprocessing import StandardScaler\n",
    "\n",
    "dataset = pd.read_csv('.\\\\Q2\\\\test.csv')\n",
    "\n",
    "X_train = dataset[['bedrooms', 'living_in_m2','real_bathrooms']]\n",
    "Y_train = dataset[['price']]\n",
    "\n",
    "sc_X = StandardScaler()\n",
    "X_train = sc_X.fit_transform(X_train)\n",
    "Y_train = sc_X.fit_transform(Y_train)\n",
    "\n",
    "rows, columns = X_train.shape\n"
   ]
  },
  {
   "cell_type": "code",
   "execution_count": 26,
   "id": "66f4f8cd-1529-458b-aed6-90c059b0023f",
   "metadata": {},
   "outputs": [
    {
     "name": "stdout",
     "output_type": "stream",
     "text": [
      "(3,)\n"
     ]
    },
    {
     "data": {
      "text/plain": [
       "0.0"
      ]
     },
     "execution_count": 26,
     "metadata": {},
     "output_type": "execute_result"
    }
   ],
   "source": [
    "#creating wieghts and bias series/vector\n",
    "\n",
    "#w = pd.DataFrame(0, index= np.arange(rows), columns = [\"w\"])\n",
    "#b = pd.DataFrame(0, index= np.arange(rows), columns = [\"b\"])\n",
    "\n",
    "w = np.zeros(columns)\n",
    "b = 0\n",
    "\n",
    "print(w.shape)\n",
    "np.dot(w, X_train[0])"
   ]
  },
  {
   "cell_type": "code",
   "execution_count": 33,
   "id": "03dc872f-cdbf-4443-b301-9a98c21d1531",
   "metadata": {},
   "outputs": [],
   "source": [
    "def gradient_Descent(X_train, Y_train, w,b):\n",
    "    \n",
    "    learning_rate = 0.001\n",
    "    n, m = X_train.shape\n",
    "    \n",
    "    for i in range(n):\n",
    "        # y_hat = 0\n",
    "        # for j in range(m-1):\n",
    "        #     y_hat += w[j] * X_train[i, j]\n",
    "        # y_hat = y_hat + b\n",
    "        y_hat = np.dot(w, X_train[i]) + b\n",
    "        for j in range(m):\n",
    "            w[j] = w[j] - learning_rate*(Y_train[i] - y_hat )* X_train[i,j]\n",
    "        b = b - learning_rate* (Y_train[i] - y_hat)\n",
    "        \n",
    "    return w, b\n",
    "\n",
    "\n",
    "        "
   ]
  },
  {
   "cell_type": "code",
   "execution_count": 34,
   "id": "2827299e-5a17-48b8-9a70-3df37ef44afe",
   "metadata": {},
   "outputs": [],
   "source": [
    "def cost(X_train, Y_train, w, b):\n",
    "    n, m = X_train.shape\n",
    "    error = 0.0\n",
    "    for i in range(n):\n",
    "        y_hat = np.dot(w, X_train[i]) + b\n",
    "        error+= (Y_train[i] - y_hat)**2\n",
    "    return error/float(n)\n",
    "    "
   ]
  },
  {
   "cell_type": "code",
   "execution_count": 35,
   "id": "b1950e5b-3942-4b9e-98ea-aaea8478e06e",
   "metadata": {},
   "outputs": [
    {
     "name": "stderr",
     "output_type": "stream",
     "text": [
      "C:\\Users\\atia gull\\AppData\\Local\\Temp\\ipykernel_15932\\2577207488.py:13: DeprecationWarning: Conversion of an array with ndim > 0 to a scalar is deprecated, and will error in future. Ensure you extract a single element from your array before performing this operation. (Deprecated NumPy 1.25.)\n",
      "  w[j] = w[j] - learning_rate*(Y_train[i] - y_hat )* X_train[i,j]\n"
     ]
    },
    {
     "name": "stdout",
     "output_type": "stream",
     "text": [
      "Cost at iteration 0 : [3.25010093e+300]\n"
     ]
    },
    {
     "name": "stderr",
     "output_type": "stream",
     "text": [
      "C:\\Users\\atia gull\\AppData\\Local\\Temp\\ipykernel_15932\\3250263957.py:11: RuntimeWarning: overflow encountered in square\n",
      "  error+= (Y_train[i] - y_hat)**2\n"
     ]
    },
    {
     "name": "stdout",
     "output_type": "stream",
     "text": [
      "Cost at iteration 20 : [inf]\n",
      "Cost at iteration 40 : [nan]\n"
     ]
    },
    {
     "ename": "KeyboardInterrupt",
     "evalue": "",
     "output_type": "error",
     "traceback": [
      "\u001b[1;31m---------------------------------------------------------------------------\u001b[0m",
      "\u001b[1;31mKeyboardInterrupt\u001b[0m                         Traceback (most recent call last)",
      "Cell \u001b[1;32mIn[35], line 2\u001b[0m\n\u001b[0;32m      1\u001b[0m \u001b[38;5;28;01mfor\u001b[39;00m it \u001b[38;5;129;01min\u001b[39;00m \u001b[38;5;28mrange\u001b[39m(\u001b[38;5;241m2000\u001b[39m):\n\u001b[1;32m----> 2\u001b[0m     w, b \u001b[38;5;241m=\u001b[39m gradient_Descent(X_train, Y_train, w, b)\n\u001b[0;32m      3\u001b[0m     \u001b[38;5;28;01mif\u001b[39;00m it \u001b[38;5;241m%\u001b[39m \u001b[38;5;241m20\u001b[39m \u001b[38;5;241m==\u001b[39m \u001b[38;5;241m0\u001b[39m:\n\u001b[0;32m      4\u001b[0m         err \u001b[38;5;241m=\u001b[39m cost(X_train, Y_train, w, b)\n",
      "Cell \u001b[1;32mIn[33], line 11\u001b[0m, in \u001b[0;36mgradient_Descent\u001b[1;34m(X_train, Y_train, w, b)\u001b[0m\n\u001b[0;32m      4\u001b[0m n, m \u001b[38;5;241m=\u001b[39m X_train\u001b[38;5;241m.\u001b[39mshape\n\u001b[0;32m      6\u001b[0m \u001b[38;5;28;01mfor\u001b[39;00m i \u001b[38;5;129;01min\u001b[39;00m \u001b[38;5;28mrange\u001b[39m(n):\n\u001b[0;32m      7\u001b[0m     \u001b[38;5;66;03m# y_hat = 0\u001b[39;00m\n\u001b[0;32m      8\u001b[0m     \u001b[38;5;66;03m# for j in range(m-1):\u001b[39;00m\n\u001b[0;32m      9\u001b[0m     \u001b[38;5;66;03m#     y_hat += w[j] * X_train[i, j]\u001b[39;00m\n\u001b[0;32m     10\u001b[0m     \u001b[38;5;66;03m# y_hat = y_hat + b\u001b[39;00m\n\u001b[1;32m---> 11\u001b[0m     y_hat \u001b[38;5;241m=\u001b[39m np\u001b[38;5;241m.\u001b[39mdot(w, X_train[i]) \u001b[38;5;241m+\u001b[39m b\n\u001b[0;32m     12\u001b[0m     \u001b[38;5;28;01mfor\u001b[39;00m j \u001b[38;5;129;01min\u001b[39;00m \u001b[38;5;28mrange\u001b[39m(m):\n\u001b[0;32m     13\u001b[0m         w[j] \u001b[38;5;241m=\u001b[39m w[j] \u001b[38;5;241m-\u001b[39m learning_rate\u001b[38;5;241m*\u001b[39m(Y_train[i] \u001b[38;5;241m-\u001b[39m y_hat )\u001b[38;5;241m*\u001b[39m X_train[i,j]\n",
      "\u001b[1;31mKeyboardInterrupt\u001b[0m: "
     ]
    }
   ],
   "source": [
    "for it in range(2000):\n",
    "    w, b = gradient_Descent(X_train, Y_train, w, b)\n",
    "    if it % 20 == 0:\n",
    "        err = cost(X_train, Y_train, w, b)\n",
    "        print(\"Cost at iteration\", it, \":\", err)\n"
   ]
  },
  {
   "cell_type": "code",
   "execution_count": 21,
   "id": "d80b1a5b-9a84-426e-880b-48dd22d95505",
   "metadata": {},
   "outputs": [
    {
     "name": "stderr",
     "output_type": "stream",
     "text": [
      "C:\\Users\\atia gull\\AppData\\Local\\Temp\\ipykernel_15932\\1449082077.py:8: DeprecationWarning: Conversion of an array with ndim > 0 to a scalar is deprecated, and will error in future. Ensure you extract a single element from your array before performing this operation. (Deprecated NumPy 1.25.)\n",
      "  w[j] -= learning_rate * (Y_train[i] - y_hat) * X_train[i, j]\n"
     ]
    },
    {
     "name": "stdout",
     "output_type": "stream",
     "text": [
      "Cost at iteration 0 : [nan]\n",
      "Cost at iteration 200 : [nan]\n"
     ]
    },
    {
     "ename": "KeyboardInterrupt",
     "evalue": "",
     "output_type": "error",
     "traceback": [
      "\u001b[1;31m---------------------------------------------------------------------------\u001b[0m",
      "\u001b[1;31mKeyboardInterrupt\u001b[0m                         Traceback (most recent call last)",
      "Cell \u001b[1;32mIn[21], line 25\u001b[0m\n\u001b[0;32m     23\u001b[0m \u001b[38;5;66;03m# Assuming w and b are initialized\u001b[39;00m\n\u001b[0;32m     24\u001b[0m \u001b[38;5;28;01mfor\u001b[39;00m it \u001b[38;5;129;01min\u001b[39;00m \u001b[38;5;28mrange\u001b[39m(\u001b[38;5;241m2000\u001b[39m):\n\u001b[1;32m---> 25\u001b[0m     w, b \u001b[38;5;241m=\u001b[39m gradient_Descent(X_train, Y_train, w, b)\n\u001b[0;32m     26\u001b[0m     \u001b[38;5;28;01mif\u001b[39;00m it \u001b[38;5;241m%\u001b[39m \u001b[38;5;241m200\u001b[39m \u001b[38;5;241m==\u001b[39m \u001b[38;5;241m0\u001b[39m:\n\u001b[0;32m     27\u001b[0m         err \u001b[38;5;241m=\u001b[39m cost(X_train, Y_train, w, b)\n",
      "Cell \u001b[1;32mIn[21], line 6\u001b[0m, in \u001b[0;36mgradient_Descent\u001b[1;34m(X_train, Y_train, w, b)\u001b[0m\n\u001b[0;32m      3\u001b[0m n, m \u001b[38;5;241m=\u001b[39m X_train\u001b[38;5;241m.\u001b[39mshape\n\u001b[0;32m      5\u001b[0m \u001b[38;5;28;01mfor\u001b[39;00m i \u001b[38;5;129;01min\u001b[39;00m \u001b[38;5;28mrange\u001b[39m(n):\n\u001b[1;32m----> 6\u001b[0m     y_hat \u001b[38;5;241m=\u001b[39m np\u001b[38;5;241m.\u001b[39mdot(w, X_train[i]) \u001b[38;5;241m+\u001b[39m b\n\u001b[0;32m      7\u001b[0m     \u001b[38;5;28;01mfor\u001b[39;00m j \u001b[38;5;129;01min\u001b[39;00m \u001b[38;5;28mrange\u001b[39m(m):\n\u001b[0;32m      8\u001b[0m         w[j] \u001b[38;5;241m-\u001b[39m\u001b[38;5;241m=\u001b[39m learning_rate \u001b[38;5;241m*\u001b[39m (Y_train[i] \u001b[38;5;241m-\u001b[39m y_hat) \u001b[38;5;241m*\u001b[39m X_train[i, j]\n",
      "\u001b[1;31mKeyboardInterrupt\u001b[0m: "
     ]
    }
   ],
   "source": [
    "def gradient_Descent(X_train, Y_train, w, b):\n",
    "    learning_rate = 0.00001  # Reduced learning rate\n",
    "    n, m = X_train.shape\n",
    "    \n",
    "    for i in range(n):\n",
    "        y_hat = np.dot(w, X_train[i]) + b\n",
    "        for j in range(m):\n",
    "            w[j] -= learning_rate * (Y_train[i] - y_hat) * X_train[i, j]\n",
    "        b -= learning_rate * (Y_train[i] - y_hat)\n",
    "        \n",
    "    return w, b\n",
    "\n",
    "def cost(X_train, Y_train, w, b):\n",
    "    n, m = X_train.shape\n",
    "    error = 0.0\n",
    "    \n",
    "    for i in range(n):\n",
    "        y_hat = np.dot(w, X_train[i]) + b\n",
    "        error += (Y_train[i] - y_hat) ** 2\n",
    "    \n",
    "    return error / float(n)\n",
    "\n",
    "# Assuming w and b are initialized\n",
    "for it in range(2000):\n",
    "    w, b = gradient_Descent(X_train, Y_train, w, b)\n",
    "    if it % 200 == 0:\n",
    "        err = cost(X_train, Y_train, w, b)\n",
    "        print(\"Cost at iteration\", it, \":\", err)\n"
   ]
  },
  {
   "cell_type": "code",
   "execution_count": null,
   "id": "c29ed3d5-cb4f-4658-bcc4-d08291c823ab",
   "metadata": {},
   "outputs": [],
   "source": [
    "import numpy as np\n",
    "import pandas as pd\n",
    "import matplotlib.pyplot as plt\n",
    "from sklearn.preprocessing import StandardScaler\n",
    "\n",
    "# Load and preprocess the dataset\n",
    "dataset = pd.read_csv('.\\\\Q2\\\\test.csv')\n",
    "X_train = dataset[['bedrooms', 'living_in_m2', 'real_bathrooms']]\n",
    "Y_train = dataset[['price']]\n",
    "\n",
    "# Scale features and target variable separately\n",
    "sc_X = StandardScaler()\n",
    "sc_Y = StandardScaler()\n",
    "X_train = sc_X.fit_transform(X_train)\n",
    "Y_train = sc_Y.fit_transform(Y_train).flatten()  # Flatten to 1D for consistency\n",
    "\n",
    "# Initialize weights and bias\n",
    "rows, columns = X_train.shape\n",
    "w = np.zeros(columns)  # 1D array for weights\n",
    "b = 0\n",
    "\n",
    "# Gradient Descent function\n",
    "def gradient_Descent(X_train, Y_train, w, b):\n",
    "    learning_rate = 0.01\n",
    "    n, m = X_train.shape\n",
    "    w_gradient = np.zeros_like(w)  # Initialize gradients for weights\n",
    "    b_gradient = 0  # Initialize gradient for bias\n",
    "\n",
    "    # Accumulate gradients\n",
    "    for i in range(n):\n",
    "        y_hat = np.dot(w, X_train[i]) + b\n",
    "        error = (Y_train[i] - y_hat)\n",
    "        w_gradient += -error * X_train[i] / n  # Accumulate gradients\n",
    "        b_gradient += -error / n\n",
    "\n",
    "    # Update weights and bias\n",
    "    w = w - learning_rate * w_gradient\n",
    "    b = b - learning_rate * b_gradient\n",
    "    return w, b\n",
    "\n",
    "# Cost function\n",
    "def cost(X_train, Y_train, w, b):\n",
    "    n, m = X_train.shape\n",
    "    error = 0.0\n",
    "    for i in range(n):\n",
    "        y_hat = np.dot(w, X_train[i]) + b\n",
    "        error += (Y_train[i] - y_hat) ** 2\n",
    "    return error / float(n)\n",
    "\n",
    "# Training loop\n",
    "for it in range(2000):\n",
    "    w, b = gradient_Descent(X_train, Y_train, w, b)\n",
    "    if it % 200 == 0:\n",
    "        err = cost(X_train, Y_train, w, b)\n",
    "        print(\"Cost at iteration\", it, \":\", err)\n"
   ]
  },
  {
   "cell_type": "code",
   "execution_count": 28,
   "id": "e155b02d-40ed-47f3-abb3-d9ed868eb759",
   "metadata": {},
   "outputs": [
    {
     "name": "stdout",
     "output_type": "stream",
     "text": [
      "Cost at epoch 0 : 0.7228082795150366\n",
      "Cost at epoch 200 : 0.6165222048865011\n",
      "Cost at epoch 400 : 0.6164983565691281\n",
      "Cost at epoch 600 : 0.6165001830828485\n",
      "Cost at epoch 800 : 0.6165023089619436\n",
      "Cost at epoch 1000 : 0.6165252719856154\n",
      "Cost at epoch 1200 : 0.616500154581612\n",
      "Cost at epoch 1400 : 0.6165013417344507\n",
      "Cost at epoch 1600 : 0.6165356456199341\n",
      "Cost at epoch 1800 : 0.6164920434782518\n"
     ]
    }
   ],
   "source": [
    "import numpy as np\n",
    "import pandas as pd\n",
    "import matplotlib.pyplot as plt\n",
    "from sklearn.preprocessing import StandardScaler\n",
    "\n",
    "# Load and preprocess the dataset\n",
    "dataset = pd.read_csv('.\\\\Q2\\\\test.csv')\n",
    "X_train = dataset[['bedrooms', 'living_in_m2', 'real_bathrooms']]\n",
    "Y_train = dataset[['price']]\n",
    "\n",
    "# Scale features and target variable separately\n",
    "sc_X = StandardScaler()\n",
    "sc_Y = StandardScaler()\n",
    "X_train = sc_X.fit_transform(X_train)\n",
    "Y_train = sc_Y.fit_transform(Y_train).flatten()  # Flatten to 1D for consistency\n",
    "\n",
    "# Initialize weights and bias\n",
    "rows, columns = X_train.shape\n",
    "w = np.zeros(columns)  # 1D array for weights\n",
    "b = 0\n",
    "\n",
    "# Set batch size and learning rate\n",
    "batch_size = 128\n",
    "learning_rate = 0.01\n",
    "\n",
    "# Mini-batch Gradient Descent function\n",
    "def mini_batch_gradient_descent(X_train, Y_train, w, b, batch_size, learning_rate):\n",
    "    n, m = X_train.shape\n",
    "    # Shuffle the data at the start of each epoch\n",
    "    permutation = np.random.permutation(n)\n",
    "    X_train_shuffled = X_train[permutation]\n",
    "    Y_train_shuffled = Y_train[permutation]\n",
    "    \n",
    "    # Process each mini-batch\n",
    "    for start in range(0, n, batch_size):\n",
    "        end = min(start + batch_size, n)\n",
    "        X_batch = X_train_shuffled[start:end]\n",
    "        Y_batch = Y_train_shuffled[start:end]\n",
    "\n",
    "        # Initialize gradients\n",
    "        w_gradient = np.zeros_like(w)\n",
    "        b_gradient = 0\n",
    "\n",
    "        # Compute gradients for the batch\n",
    "        for i in range(len(X_batch)):\n",
    "            y_hat = np.dot(w, X_batch[i]) + b\n",
    "            error = Y_batch[i] - y_hat\n",
    "            w_gradient += -error * X_batch[i] / len(X_batch)\n",
    "            b_gradient += -error / len(X_batch)\n",
    "\n",
    "        # Update weights and bias\n",
    "        w -= learning_rate * w_gradient\n",
    "        b -= learning_rate * b_gradient\n",
    "\n",
    "    return w, b\n",
    "\n",
    "# Cost function\n",
    "def cost(X_train, Y_train, w, b):\n",
    "    n = X_train.shape[0]\n",
    "    total_error = 0.0\n",
    "    for i in range(n):\n",
    "        y_hat = np.dot(w, X_train[i]) + b\n",
    "        total_error += (Y_train[i] - y_hat) ** 2\n",
    "    return total_error / float(n)\n",
    "\n",
    "# Training loop\n",
    "num_epochs = 2000\n",
    "for epoch in range(num_epochs):\n",
    "    w, b = mini_batch_gradient_descent(X_train, Y_train, w, b, batch_size, learning_rate)\n",
    "    \n",
    "    # Print cost every 200 epochs\n",
    "    if epoch % 200 == 0:\n",
    "        err = cost(X_train, Y_train, w, b)\n",
    "        print(\"Cost at epoch\", epoch, \":\", err)\n"
   ]
  },
  {
   "cell_type": "code",
   "execution_count": null,
   "id": "88dba530-5c16-41d3-9460-fc425d2637df",
   "metadata": {},
   "outputs": [],
   "source": []
  }
 ],
 "metadata": {
  "kernelspec": {
   "display_name": "Python 3 (ipykernel)",
   "language": "python",
   "name": "python3"
  },
  "language_info": {
   "codemirror_mode": {
    "name": "ipython",
    "version": 3
   },
   "file_extension": ".py",
   "mimetype": "text/x-python",
   "name": "python",
   "nbconvert_exporter": "python",
   "pygments_lexer": "ipython3",
   "version": "3.12.7"
  }
 },
 "nbformat": 4,
 "nbformat_minor": 5
}
