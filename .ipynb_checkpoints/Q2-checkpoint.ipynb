{
 "cells": [
  {
   "cell_type": "code",
   "execution_count": 2,
   "id": "eea98779-89f0-43af-9dd2-b1882837c71f",
   "metadata": {},
   "outputs": [
    {
     "name": "stdout",
     "output_type": "stream",
     "text": [
      "Cost at iteration 0 : 0.8900971975539541\n",
      "Cost at iteration 200 : 0.6164917500899688\n",
      "Cost at iteration 400 : 0.6164914835133501\n",
      "Cost at iteration 600 : 0.6164914835126203\n",
      "Cost at iteration 800 : 0.6164914835126181\n",
      "Cost at iteration 1000 : 0.6164914835126175\n",
      "Cost at iteration 1200 : 0.6164914835126177\n",
      "Cost at iteration 1400 : 0.6164914835126177\n",
      "Cost at iteration 1600 : 0.6164914835126177\n",
      "Cost at iteration 1800 : 0.6164914835126177\n"
     ]
    },
    {
     "ename": "KeyboardInterrupt",
     "evalue": "",
     "output_type": "error",
     "traceback": [
      "\u001b[1;31m---------------------------------------------------------------------------\u001b[0m",
      "\u001b[1;31mKeyboardInterrupt\u001b[0m                         Traceback (most recent call last)",
      "Cell \u001b[1;32mIn[2], line 52\u001b[0m\n\u001b[0;32m     50\u001b[0m \u001b[38;5;66;03m# Training loop\u001b[39;00m\n\u001b[0;32m     51\u001b[0m \u001b[38;5;28;01mfor\u001b[39;00m it \u001b[38;5;129;01min\u001b[39;00m \u001b[38;5;28mrange\u001b[39m(\u001b[38;5;241m4000\u001b[39m):\n\u001b[1;32m---> 52\u001b[0m     w, b \u001b[38;5;241m=\u001b[39m gradient_Descent(X_train, Y_train, w, b)\n\u001b[0;32m     53\u001b[0m     \u001b[38;5;28;01mif\u001b[39;00m it \u001b[38;5;241m%\u001b[39m \u001b[38;5;241m200\u001b[39m \u001b[38;5;241m==\u001b[39m \u001b[38;5;241m0\u001b[39m:\n\u001b[0;32m     54\u001b[0m         err \u001b[38;5;241m=\u001b[39m cost(X_train, Y_train, w, b)\n",
      "Cell \u001b[1;32mIn[2], line 31\u001b[0m, in \u001b[0;36mgradient_Descent\u001b[1;34m(X_train, Y_train, w, b)\u001b[0m\n\u001b[0;32m     29\u001b[0m \u001b[38;5;66;03m# Accumulate gradients\u001b[39;00m\n\u001b[0;32m     30\u001b[0m \u001b[38;5;28;01mfor\u001b[39;00m i \u001b[38;5;129;01min\u001b[39;00m \u001b[38;5;28mrange\u001b[39m(n):\n\u001b[1;32m---> 31\u001b[0m     y_hat \u001b[38;5;241m=\u001b[39m np\u001b[38;5;241m.\u001b[39mdot(w, X_train[i]) \u001b[38;5;241m+\u001b[39m b\n\u001b[0;32m     32\u001b[0m     error \u001b[38;5;241m=\u001b[39m (Y_train[i] \u001b[38;5;241m-\u001b[39m y_hat)\n\u001b[0;32m     33\u001b[0m     w_gradient \u001b[38;5;241m+\u001b[39m\u001b[38;5;241m=\u001b[39m \u001b[38;5;241m-\u001b[39merror \u001b[38;5;241m*\u001b[39m X_train[i]  \u001b[38;5;66;03m# returns w_gradient vector with each cell containg error * x-subscriptj\u001b[39;00m\n",
      "\u001b[1;31mKeyboardInterrupt\u001b[0m: "
     ]
    }
   ],
   "source": [
    "import numpy as np\n",
    "import pandas as pd\n",
    "import matplotlib.pyplot as plt\n",
    "from sklearn.preprocessing import StandardScaler\n",
    "\n",
    "# Load and preprocess the dataset\n",
    "dataset = pd.read_csv('.\\\\Q2-data\\\\test.csv')\n",
    "X_train = dataset[['bedrooms', 'living_in_m2', 'real_bathrooms']]\n",
    "Y_train = dataset[['price']]\n",
    "\n",
    "# Scale features and target variable separately\n",
    "sc_X = StandardScaler()\n",
    "sc_Y = StandardScaler()\n",
    "X_train = sc_X.fit_transform(X_train)\n",
    "Y_train = sc_Y.fit_transform(Y_train).flatten()  # Flatten to 1D for consistency\n",
    "\n",
    "# Initialize weights and bias\n",
    "rows, columns = X_train.shape\n",
    "w = np.zeros(columns)  # 1D array for weights\n",
    "b = 0\n",
    "\n",
    "# Gradient Descent function\n",
    "def gradient_Descent(X_train, Y_train, w, b):\n",
    "    learning_rate = 0.01\n",
    "    n, m = X_train.shape\n",
    "    w_gradient = np.zeros_like(w)  # Initialize gradients for weights\n",
    "    b_gradient = 0  # Initialize gradient for bias\n",
    "\n",
    "    # Accumulate gradients\n",
    "    for i in range(n):\n",
    "        y_hat = np.dot(w, X_train[i]) + b\n",
    "        error = (Y_train[i] - y_hat)\n",
    "        w_gradient += -error * X_train[i]  # returns w_gradient vector with each cell containg error * x-subscriptj\n",
    "        b_gradient += -error\n",
    "\n",
    "    # Update weights and bias\n",
    "    w = w - 1.0/n * learning_rate * w_gradient\n",
    "    b = b - 1.0/n * learning_rate * b_gradient\n",
    "    return w, b\n",
    "\n",
    "# Cost function\n",
    "def cost(X_train, Y_train, w, b):\n",
    "    n, m = X_train.shape\n",
    "    error = 0.0\n",
    "    for i in range(n):\n",
    "        y_hat = np.dot(w, X_train[i]) + b #X_train[i] will return ith row/sample as vetor/series. y_hat is scalar\n",
    "        error += (Y_train[i] - y_hat) ** 2 #\n",
    "    return error / float(n)\n",
    "\n",
    "# Training loop\n",
    "for it in range(4000):\n",
    "    w, b = gradient_Descent(X_train, Y_train, w, b)\n",
    "    if it % 200 == 0:\n",
    "        err = cost(X_train, Y_train, w, b)\n",
    "        print(\"Cost at iteration\", it, \":\", err)\n"
   ]
  },
  {
   "cell_type": "code",
   "execution_count": 3,
   "id": "082a1156-6110-4429-9735-a264dbf16323",
   "metadata": {},
   "outputs": [
    {
     "name": "stdout",
     "output_type": "stream",
     "text": [
      "[305000. 498000. 590000. ... 264000. 612125. 190000.]\n",
      "[262795.09308854 508345.40297034 655577.18194603 ... 413327.13065413\n",
      " 465380.40206229 346779.75929249]\n",
      "Mean Absolute Error (MAE): 130577.4963291162\n",
      "Mean Squared Error (MSE): 26680083521.333256\n",
      "Root Mean Squared Error (RMSE): 163340.3915794659\n",
      "R-squared (R²): 0.38350851648625495\n"
     ]
    }
   ],
   "source": [
    "from sklearn.metrics import mean_squared_error, mean_absolute_error, r2_score\n",
    "\n",
    "# Function to predict values\n",
    "def predict(X, w, b):\n",
    "    return np.dot(X, w) + b\n",
    "\n",
    "# Calculate accuracy metrics\n",
    "def evaluate_model(X_train, Y_train, w, b):\n",
    "    # Predict on training set\n",
    "    Y_pred = predict(X_train, w, b)\n",
    "\n",
    "    # Reverse scaling for Y_train and Y_pred\n",
    "    Y_train_original = sc_Y.inverse_transform(Y_train.reshape(-1, 1)).flatten()\n",
    "    Y_pred_original = sc_Y.inverse_transform(Y_pred.reshape(-1, 1)).flatten()\n",
    "\n",
    "    print(Y_train_original )\n",
    "\n",
    "    print(Y_pred_original)\n",
    "    # Calculate evaluation metrics\n",
    "    mse = mean_squared_error(Y_train_original, Y_pred_original)\n",
    "    rmse = np.sqrt(mse)\n",
    "    mae = mean_absolute_error(Y_train_original, Y_pred_original)\n",
    "    r2 = r2_score(Y_train_original, Y_pred_original)\n",
    "\n",
    "    print(\"Mean Absolute Error (MAE):\", mae)\n",
    "    print(\"Mean Squared Error (MSE):\", mse)\n",
    "    print(\"Root Mean Squared Error (RMSE):\", rmse)\n",
    "    print(\"R-squared (R²):\", r2)\n",
    "\n",
    "# Evaluate the model after training\n",
    "evaluate_model(X_train, Y_train, w, b)\n"
   ]
  },
  {
   "cell_type": "code",
   "execution_count": null,
   "id": "5a289abf-9954-4c17-adb0-52b26c574522",
   "metadata": {},
   "outputs": [],
   "source": []
  }
 ],
 "metadata": {
  "kernelspec": {
   "display_name": "Python 3 (ipykernel)",
   "language": "python",
   "name": "python3"
  },
  "language_info": {
   "codemirror_mode": {
    "name": "ipython",
    "version": 3
   },
   "file_extension": ".py",
   "mimetype": "text/x-python",
   "name": "python",
   "nbconvert_exporter": "python",
   "pygments_lexer": "ipython3",
   "version": "3.12.7"
  }
 },
 "nbformat": 4,
 "nbformat_minor": 5
}
